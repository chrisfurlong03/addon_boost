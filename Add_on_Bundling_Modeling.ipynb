{
  "cells": [
    {
      "cell_type": "markdown",
      "metadata": {
        "id": "view-in-github",
        "colab_type": "text"
      },
      "source": [
        "<a href=\"https://colab.research.google.com/github/chrisfurlong03/addon_boost/blob/main/Add_on_Bundling_Modeling.ipynb\" target=\"_parent\"><img src=\"https://colab.research.google.com/assets/colab-badge.svg\" alt=\"Open In Colab\"/></a>"
      ]
    },
    {
      "cell_type": "markdown",
      "metadata": {
        "id": "zcDfkaQ8xFIM"
      },
      "source": [
        "# Add-on Reccomender and Pricing\n",
        "\n",
        "This notebook imports a small addon_bundling package to:\n",
        "1) generate synthetic data,\n",
        "2) train a (price/elasticity) with XGBoost,\n",
        "3) inspect feature importances and a sample tree,\n",
        "5) run the optimizer to get top-K offers (probability-ranked, price ≤ per-add-on list price)."
      ],
      "id": "zcDfkaQ8xFIM"
    },
    {
      "cell_type": "code",
      "execution_count": null,
      "metadata": {
        "id": "zJKcWbEUxFIN"
      },
      "outputs": [],
      "source": [
        "import os, shutil, glob, pathlib, xgboost, sklearn, pandas, matplotlib, numpy, graphviz\n",
        "!gdown --folder \"https://drive.google.com/drive/folders/1u0O2rjMQNjKUw-P_wwRylxab13Uglj5G\" -O /content/tmp_dl --remaining-ok"
      ],
      "id": "zJKcWbEUxFIN"
    },
    {
      "cell_type": "code",
      "execution_count": null,
      "metadata": {
        "id": "4rtOCsMSxFIO"
      },
      "outputs": [],
      "source": [
        "import numpy as np, pandas as pd, matplotlib.pyplot as plt\n",
        "from tmp_dl.config import ADDON_META, PRICE_BUCKETS, Policy\n",
        "from tmp_dl.data_gen import generate_synthetic_training\n",
        "from tmp_dl.models import train_propensity_model, train_price_elasticity_model\n",
        "from tmp_dl.features import TARGET\n",
        "from tmp_dl.optimizer import optimize_offers\n",
        "print('Imports OK')\n"
      ],
      "id": "4rtOCsMSxFIO"
    },
    {
      "cell_type": "code",
      "execution_count": null,
      "metadata": {
        "id": "fkXEy5TdxFIO"
      },
      "outputs": [],
      "source": [
        "df = generate_synthetic_training(n_bookings=4000)\n",
        "df.head()\n"
      ],
      "id": "fkXEy5TdxFIO"
    },
    {
      "cell_type": "code",
      "execution_count": null,
      "metadata": {
        "id": "mOhFoJtIxFIO"
      },
      "outputs": [],
      "source": [
        "# 1) Days to departure\n",
        "plt.figure()\n",
        "df['days_to_departure'].plot(kind='hist', bins=30)\n",
        "plt.title('Days to departure (histogram)')\n",
        "plt.xlabel('days_to_departure')\n",
        "plt.ylabel('count')\n",
        "plt.show()\n",
        "\n",
        "addon_rate = df.groupby('addon_id')[TARGET].mean().sort_values(ascending=False)\n",
        "plt.figure()\n",
        "addon_rate.plot(kind='bar')\n",
        "plt.title('Purchase rate by add-on')\n",
        "plt.xlabel('addon_id')\n",
        "plt.ylabel('conversion rate')\n",
        "plt.show()\n",
        "\n"
      ],
      "id": "mOhFoJtIxFIO"
    },
    {
      "cell_type": "code",
      "execution_count": null,
      "metadata": {
        "id": "z-4V2RYaxFIO"
      },
      "outputs": [],
      "source": [
        "propensity_model = train_propensity_model(df)\n",
        "price_model = train_price_elasticity_model(df)\n",
        "print('Models trained')\n"
      ],
      "id": "z-4V2RYaxFIO"
    },
    {
      "cell_type": "code",
      "execution_count": null,
      "metadata": {
        "id": "5DKYiXxOxFIP"
      },
      "outputs": [],
      "source": [
        "# Map feature importances to post-transformer feature names (M2)\n",
        "preproc = price_model.named_steps['prep']\n",
        "feature_names = preproc.get_feature_names_out()\n",
        "clf = price_model.named_steps['clf']\n",
        "importances = clf.feature_importances_\n",
        "\n",
        "import pandas as pd\n",
        "imp = (\n",
        "    pd.DataFrame({'feature': feature_names, 'importance': importances})\n",
        "    .sort_values('importance', ascending=False)\n",
        "    .head(30)\n",
        ")\n",
        "imp\n"
      ],
      "id": "5DKYiXxOxFIP"
    },
    {
      "cell_type": "code",
      "execution_count": null,
      "metadata": {
        "id": "F1c8kml9xFIP"
      },
      "outputs": [],
      "source": [
        "top = imp.head(20).sort_values('importance', ascending=True)\n",
        "plt.figure()\n",
        "plt.barh(top['feature'], top['importance'])\n",
        "plt.title('M2 feature importance (top 20)')\n",
        "plt.xlabel('importance')\n",
        "plt.ylabel('feature')\n",
        "plt.tight_layout()\n",
        "plt.show()\n"
      ],
      "id": "F1c8kml9xFIP"
    },
    {
      "cell_type": "code",
      "execution_count": null,
      "metadata": {
        "id": "ORQAJ8L9xFIP"
      },
      "outputs": [],
      "source": [
        "from xgboost import plot_tree\n",
        "booster = price_model.named_steps['clf'].get_booster()\n",
        "feature_names = price_model.named_steps[\"prep\"].get_feature_names_out().tolist()\n",
        "booster.feature_names = feature_names\n",
        "plt.figure(figsize=(30, 30))\n",
        "plot_tree(booster, tree_idx=0)\n",
        "plt.title('M2 — Tree 0')\n",
        "plt.gcf().set_size_inches(150, 100)\n",
        "plt.show()"
      ],
      "id": "ORQAJ8L9xFIP"
    },
    {
      "cell_type": "code",
      "execution_count": null,
      "metadata": {
        "id": "ZPxWijO3xFIP"
      },
      "outputs": [],
      "source": [
        "# Optimize offers (probability-ranked; one price per add-on; price ≤ list per add-on)\n",
        "ctx = pd.DataFrame([{\n",
        "    'booking_id': 'B_demo',\n",
        "    'route_od': 'ORD_SFO',\n",
        "    'flight_duration_min': 270,\n",
        "    'dep_hour_local': 9,\n",
        "    'pax_count': 2,\n",
        "    'days_to_departure': 14,\n",
        "    'payment_type': 'credit_card',\n",
        "    'loyalty_tier': 'Gold',\n",
        "    'season': 'Q4',\n",
        "    'purchased_any_addon': 0,\n",
        "    'used_upgrade': 0,\n",
        "}])\n",
        "addon_costs = {k: v['cost'] for k, v in ADDON_META.items()}\n",
        "price_list_map = {k: float(v['base_price']) for k, v in ADDON_META.items()}\n",
        "offers = optimize_offers(\n",
        "    context_rows=ctx,\n",
        "    propensity_model=propensity_model,\n",
        "    price_model=price_model,\n",
        "    price_grid=PRICE_BUCKETS,\n",
        "    policy=Policy(min_margin_pct=0.1, max_discount_pct=0.5),\n",
        "    addon_costs=addon_costs,\n",
        "    addon_candidates=list(ADDON_META.keys()),\n",
        "    top_k=2,\n",
        "    list_price_map=price_list_map,\n",
        ")\n",
        "offers\n"
      ],
      "id": "ZPxWijO3xFIP"
    },
    {
      "cell_type": "markdown",
      "source": [
        "Notes to self\n",
        "- payment method should be type of card\n",
        "- why is booking_id in the optimization step?\n",
        "- and what if we wanted pricing buckets for each item... or maybe make pricing buckets based on discount rate not price."
      ],
      "metadata": {
        "id": "bAauDWuMyiJ-"
      },
      "id": "bAauDWuMyiJ-"
    }
  ],
  "metadata": {
    "kernelspec": {
      "display_name": "Python 3",
      "language": "python",
      "name": "python3"
    },
    "language_info": {
      "name": "python",
      "version": "3.x",
      "mimetype": "text/x-python",
      "codemirror_mode": {
        "name": "ipython",
        "version": 3
      },
      "pygments_lexer": "ipython3",
      "nbconvert_exporter": "python",
      "file_extension": ".py"
    },
    "colab": {
      "provenance": [],
      "include_colab_link": true
    }
  },
  "nbformat": 4,
  "nbformat_minor": 5
}